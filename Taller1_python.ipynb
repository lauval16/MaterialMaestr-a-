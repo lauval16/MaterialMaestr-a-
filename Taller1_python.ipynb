{
 "cells": [
  {
   "cell_type": "markdown",
   "id": "cb1f1715-702f-43e2-931d-0c3e1313c8b7",
   "metadata": {},
   "source": [
    "### Taller 1: Python "
   ]
  },
  {
   "cell_type": "markdown",
   "id": "950108cb-1200-4eb1-9a16-344624b721e3",
   "metadata": {},
   "source": [
    "#### Ejercicio 1\n",
    "En un avión con 100 asientos numerados del 1 al 100, los 100 pasajeros tienen asignado un asiento específico.El vuelo está completamente lleno y todos los asientos han sido vendidos.La aerolinea ha decidido hacer el proceso de embarque de una manera peculiar.\n",
    "\n",
    " • Los pasajeros ingresan al avión en el orden de su número de asiento (1,2,3 ... 100).\n",
    "\n",
    " • El primer pasajero, en lugar de sentarse en su asiento asignado, elige uno al azar entre los 100 asientos disponibles.\n",
    " \n",
    " •Los demás pasajeros,al abordar, intentan sentarse en su asiento asignado. Sin embargo,si encuentran que su asiento esta ocupado, deben elegir otro asiento aleatoriamente entre los que aun estan disponibles.\n",
    "##### Pregunta\n",
    "¿Cuál es la probabilidad de que el pasajero número 100 logre sentarse en su asiento originalmente asignado?"
   ]
  },
  {
   "cell_type": "code",
   "execution_count": 80,
   "id": "1b29fe3c-ea52-4a0d-b8f5-a8c528dd8a89",
   "metadata": {},
   "outputs": [
    {
     "name": "stdout",
     "output_type": "stream",
     "text": [
      "P:49.834%\n"
     ]
    }
   ],
   "source": [
    "import random\n",
    "\n",
    "N = 100000\n",
    "exitos =0\n",
    "for i in range (0,N):\n",
    "    sillas=list(range(1,101)) #asientos del 1-100\n",
    "    first_pass=random.choice(sillas) # Asiento pasajero 1\n",
    "    sillas.remove(first_pass) # asiento ocupado\n",
    "    \n",
    "    for pasajero in  range(2,100):\n",
    "        if pasajero in sillas:\n",
    "            sillas.remove(pasajero) #pasajero se sienta en su silla asignada\n",
    "        else:\n",
    "            sillas.remove(random.choice(sillas)) #pasajero se sienta en una silla al azar \n",
    "    if 100 in sillas:\n",
    "        exitos +=1 \n",
    "\n",
    "probabilidad =exitos*100/N\n",
    "print(f\"P:{probabilidad}%\")\n",
    "   \n"
   ]
  },
  {
   "cell_type": "markdown",
   "id": "a2a419f3-ba30-4de4-9b51-0d8a7220515a",
   "metadata": {},
   "source": [
    "#### Ejercicio 2:\n",
    "\n",
    "Realice la estimacion de π mediante el método de Monte Carlo\n"
   ]
  },
  {
   "cell_type": "code",
   "execution_count": 112,
   "id": "355f6fff-f2da-4e1b-bc70-a13ac607b0f7",
   "metadata": {},
   "outputs": [
    {
     "name": "stdout",
     "output_type": "stream",
     "text": [
      "Pi≈3.14488\n"
     ]
    }
   ],
   "source": [
    "import random \n",
    "\n",
    "M=100000\n",
    "exitoss=0\n",
    "\n",
    "for i in range(0,M):\n",
    "    x,y = random.uniform(-0.5,0.5), random.uniform(-0.5,0.5)\n",
    "    if (x**2)+(y**2)<= 0.5**2:\n",
    "        exitoss +=1\n",
    "estimacion_pi=4*(exitoss/M)\n",
    "print(f\"Pi≈{estimacion_pi}\")"
   ]
  },
  {
   "cell_type": "code",
   "execution_count": null,
   "id": "cd1a8e21-b6cc-41ce-a790-89418ad2aaff",
   "metadata": {},
   "outputs": [],
   "source": []
  }
 ],
 "metadata": {
  "kernelspec": {
   "display_name": "Python [conda env:base] *",
   "language": "python",
   "name": "conda-base-py"
  },
  "language_info": {
   "codemirror_mode": {
    "name": "ipython",
    "version": 3
   },
   "file_extension": ".py",
   "mimetype": "text/x-python",
   "name": "python",
   "nbconvert_exporter": "python",
   "pygments_lexer": "ipython3",
   "version": "3.12.7"
  }
 },
 "nbformat": 4,
 "nbformat_minor": 5
}
